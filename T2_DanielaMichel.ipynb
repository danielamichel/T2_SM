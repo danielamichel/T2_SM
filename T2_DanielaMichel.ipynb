{
 "cells": [
  {
   "cell_type": "markdown",
   "metadata": {},
   "source": [
    "Python es un lenguaje de programación y codificación que ha evolucionado con bastante rapidez se ha mantenido durante poco más de tres décadas; es muy fácil su acceso, incluso algunas computadoras vienen con el sistema preinstalado.Este lenguaje ha ganado bastante popularidad en EE. UU. Es muy accesible como ya se comentaba antes, es fácil poder tener acceso a este lenguaje y realmente es de un manejo relativamente \"fácil\" y simple, al igual que otros sistemas."
   ]
  },
  {
   "cell_type": "markdown",
   "metadata": {},
   "source": [
    "2- Al ser un lenguaje tan amplio, se pueden crear cosas muy simples y cómo vas aprendiendo y dominando el lenguaje se pueden crear cosas de mayor dificultad. Aunque su dificultad es menor a la de otros programas/lenguajes ya que no tiene una sintaxis tan complicada como otros y esto hace más fácil poder dominar el lenguaje con muchísima más rapidez.\n",
    "Tiene una amplia gama de roles de trabajo para desarrolladores, que la mayoria de estos de desarrolladores son en paginas web, ya que tienen una amplia variedad de bibliotecas que facilitan el trabajo de desarrollo de dichas páginas web, tambien se usa para el desarrollo de aplicaciones y la creación de diferentes modelos de datos.\n"
   ]
  }
 ],
 "metadata": {
  "kernelspec": {
   "display_name": "Python 3",
   "language": "python",
   "name": "python3"
  },
  "language_info": {
   "codemirror_mode": {
    "name": "ipython",
    "version": 3
   },
   "file_extension": ".py",
   "mimetype": "text/x-python",
   "name": "python",
   "nbconvert_exporter": "python",
   "pygments_lexer": "ipython3",
   "version": "3.7.4"
  }
 },
 "nbformat": 4,
 "nbformat_minor": 2
}
