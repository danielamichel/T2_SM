{
 "cells": [
  {
   "cell_type": "markdown",
   "metadata": {},
   "source": [
    "Python es un lenguaje de programación y codificación que ha evolucionado con bastante rapidez se ha mantenido durante poco más de tres décadas; es muy fácil su acceso, incluso algunas computadoras vienen con el sistema preinstalado.Este lenguaje ha ganado bastante popularidad en EE. UU. Es muy accesible como ya se comentaba antes, es fácil poder tener acceso a este lenguaje y realmente es de un manejo relativamente \"fácil\" y simple, al igual que otros sistemas."
   ]
  },
  {
   "cell_type": "code",
   "execution_count": null,
   "metadata": {},
   "outputs": [],
   "source": []
  }
 ],
 "metadata": {
  "kernelspec": {
   "display_name": "Python 3",
   "language": "python",
   "name": "python3"
  },
  "language_info": {
   "codemirror_mode": {
    "name": "ipython",
    "version": 3
   },
   "file_extension": ".py",
   "mimetype": "text/x-python",
   "name": "python",
   "nbconvert_exporter": "python",
   "pygments_lexer": "ipython3",
   "version": "3.7.4"
  }
 },
 "nbformat": 4,
 "nbformat_minor": 2
}
